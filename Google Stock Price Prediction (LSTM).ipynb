{
 "cells": [
  {
   "cell_type": "markdown",
   "metadata": {},
   "source": [
    "# Google Stock Price Prediction"
   ]
  },
  {
   "cell_type": "markdown",
   "metadata": {},
   "source": [
    "We will try the closing stock price of Google. A RNN, more specifically an LSTM RNN will be used to predict the stock price."
   ]
  },
  {
   "cell_type": "code",
   "execution_count": 1,
   "metadata": {},
   "outputs": [
    {
     "name": "stderr",
     "output_type": "stream",
     "text": [
      "C:\\Users\\Siya\\Anaconda3\\lib\\site-packages\\tensorflow\\python\\framework\\dtypes.py:526: FutureWarning: Passing (type, 1) or '1type' as a synonym of type is deprecated; in a future version of numpy, it will be understood as (type, (1,)) / '(1,)type'.\n",
      "  _np_qint8 = np.dtype([(\"qint8\", np.int8, 1)])\n",
      "C:\\Users\\Siya\\Anaconda3\\lib\\site-packages\\tensorflow\\python\\framework\\dtypes.py:527: FutureWarning: Passing (type, 1) or '1type' as a synonym of type is deprecated; in a future version of numpy, it will be understood as (type, (1,)) / '(1,)type'.\n",
      "  _np_quint8 = np.dtype([(\"quint8\", np.uint8, 1)])\n",
      "C:\\Users\\Siya\\Anaconda3\\lib\\site-packages\\tensorflow\\python\\framework\\dtypes.py:528: FutureWarning: Passing (type, 1) or '1type' as a synonym of type is deprecated; in a future version of numpy, it will be understood as (type, (1,)) / '(1,)type'.\n",
      "  _np_qint16 = np.dtype([(\"qint16\", np.int16, 1)])\n",
      "C:\\Users\\Siya\\Anaconda3\\lib\\site-packages\\tensorflow\\python\\framework\\dtypes.py:529: FutureWarning: Passing (type, 1) or '1type' as a synonym of type is deprecated; in a future version of numpy, it will be understood as (type, (1,)) / '(1,)type'.\n",
      "  _np_quint16 = np.dtype([(\"quint16\", np.uint16, 1)])\n",
      "C:\\Users\\Siya\\Anaconda3\\lib\\site-packages\\tensorflow\\python\\framework\\dtypes.py:530: FutureWarning: Passing (type, 1) or '1type' as a synonym of type is deprecated; in a future version of numpy, it will be understood as (type, (1,)) / '(1,)type'.\n",
      "  _np_qint32 = np.dtype([(\"qint32\", np.int32, 1)])\n",
      "C:\\Users\\Siya\\Anaconda3\\lib\\site-packages\\tensorflow\\python\\framework\\dtypes.py:535: FutureWarning: Passing (type, 1) or '1type' as a synonym of type is deprecated; in a future version of numpy, it will be understood as (type, (1,)) / '(1,)type'.\n",
      "  np_resource = np.dtype([(\"resource\", np.ubyte, 1)])\n"
     ]
    }
   ],
   "source": [
    "import pandas as pd\n",
    "import numpy as np\n",
    "import matplotlib.pyplot as plt\n",
    "import tensorflow as tf\n",
    "import seaborn as sns"
   ]
  },
  {
   "cell_type": "markdown",
   "metadata": {},
   "source": [
    "## Load Data and Preprocess it"
   ]
  },
  {
   "cell_type": "markdown",
   "metadata": {},
   "source": [
    "There are two data sets present for this project:\n",
    "1. A Training Set\n",
    "2. A Test Set\n",
    "\n",
    "The model will be trained on the training set. Once fully trained, the model will be tested on the test set and the results will be visulaised.\n",
    "The model will be trained on 5 years of data (2012/2016), with 1258 data entries. The data has the following columns:\n",
    "1. Date\n",
    "2. Open Price\n",
    "3. High\n",
    "4. Low\n",
    "5. Close Price\n",
    "6. Volume"
   ]
  },
  {
   "cell_type": "code",
   "execution_count": 2,
   "metadata": {},
   "outputs": [],
   "source": [
    "data_set = pd.read_csv('Google_Stock_Price_Train.csv', delimiter =';')\n",
    "data_set['Date']=pd.to_datetime(data_set['Date'], infer_datetime_format=True)"
   ]
  },
  {
   "cell_type": "code",
   "execution_count": 3,
   "metadata": {},
   "outputs": [
    {
     "data": {
      "text/html": [
       "<div>\n",
       "<style scoped>\n",
       "    .dataframe tbody tr th:only-of-type {\n",
       "        vertical-align: middle;\n",
       "    }\n",
       "\n",
       "    .dataframe tbody tr th {\n",
       "        vertical-align: top;\n",
       "    }\n",
       "\n",
       "    .dataframe thead th {\n",
       "        text-align: right;\n",
       "    }\n",
       "</style>\n",
       "<table border=\"1\" class=\"dataframe\">\n",
       "  <thead>\n",
       "    <tr style=\"text-align: right;\">\n",
       "      <th></th>\n",
       "      <th>Date</th>\n",
       "      <th>Open</th>\n",
       "      <th>High</th>\n",
       "      <th>Low</th>\n",
       "      <th>Close</th>\n",
       "      <th>Volume</th>\n",
       "    </tr>\n",
       "  </thead>\n",
       "  <tbody>\n",
       "    <tr>\n",
       "      <td>0</td>\n",
       "      <td>2012-01-03</td>\n",
       "      <td>325.25</td>\n",
       "      <td>332.83</td>\n",
       "      <td>324.97</td>\n",
       "      <td>663.59</td>\n",
       "      <td>7,380,500</td>\n",
       "    </tr>\n",
       "    <tr>\n",
       "      <td>1</td>\n",
       "      <td>2012-01-04</td>\n",
       "      <td>331.27</td>\n",
       "      <td>333.87</td>\n",
       "      <td>329.08</td>\n",
       "      <td>666.45</td>\n",
       "      <td>5,749,400</td>\n",
       "    </tr>\n",
       "    <tr>\n",
       "      <td>2</td>\n",
       "      <td>2012-01-05</td>\n",
       "      <td>329.83</td>\n",
       "      <td>330.75</td>\n",
       "      <td>326.89</td>\n",
       "      <td>657.21</td>\n",
       "      <td>6,590,300</td>\n",
       "    </tr>\n",
       "    <tr>\n",
       "      <td>3</td>\n",
       "      <td>2012-01-06</td>\n",
       "      <td>328.34</td>\n",
       "      <td>328.77</td>\n",
       "      <td>323.68</td>\n",
       "      <td>648.24</td>\n",
       "      <td>5,405,900</td>\n",
       "    </tr>\n",
       "    <tr>\n",
       "      <td>4</td>\n",
       "      <td>2012-01-09</td>\n",
       "      <td>322.04</td>\n",
       "      <td>322.29</td>\n",
       "      <td>309.46</td>\n",
       "      <td>620.76</td>\n",
       "      <td>11,688,800</td>\n",
       "    </tr>\n",
       "  </tbody>\n",
       "</table>\n",
       "</div>"
      ],
      "text/plain": [
       "        Date    Open    High     Low   Close      Volume\n",
       "0 2012-01-03  325.25  332.83  324.97  663.59   7,380,500\n",
       "1 2012-01-04  331.27  333.87  329.08  666.45   5,749,400\n",
       "2 2012-01-05  329.83  330.75  326.89  657.21   6,590,300\n",
       "3 2012-01-06  328.34  328.77  323.68  648.24   5,405,900\n",
       "4 2012-01-09  322.04  322.29  309.46  620.76  11,688,800"
      ]
     },
     "execution_count": 3,
     "metadata": {},
     "output_type": "execute_result"
    }
   ],
   "source": [
    "data_set.head()"
   ]
  },
  {
   "cell_type": "code",
   "execution_count": 4,
   "metadata": {},
   "outputs": [
    {
     "name": "stdout",
     "output_type": "stream",
     "text": [
      "<class 'pandas.core.frame.DataFrame'>\n",
      "RangeIndex: 1258 entries, 0 to 1257\n",
      "Data columns (total 6 columns):\n",
      "Date      1258 non-null datetime64[ns]\n",
      "Open      1258 non-null float64\n",
      "High      1258 non-null float64\n",
      "Low       1258 non-null float64\n",
      "Close     1258 non-null float64\n",
      "Volume    1258 non-null object\n",
      "dtypes: datetime64[ns](1), float64(4), object(1)\n",
      "memory usage: 59.1+ KB\n"
     ]
    }
   ],
   "source": [
    "data_set.info()"
   ]
  },
  {
   "cell_type": "markdown",
   "metadata": {},
   "source": [
    "We want the closing price only, over the 5 years,in order to train the network. However will do some EDA on the data."
   ]
  },
  {
   "cell_type": "markdown",
   "metadata": {},
   "source": [
    "## EDA (Exploratory Data Analysis)"
   ]
  },
  {
   "cell_type": "code",
   "execution_count": 5,
   "metadata": {},
   "outputs": [
    {
     "data": {
      "text/plain": [
       "<matplotlib.axes._subplots.AxesSubplot at 0x1c685208348>"
      ]
     },
     "execution_count": 5,
     "metadata": {},
     "output_type": "execute_result"
    },
    {
     "data": {
      "image/png": "[encoded data removed]",
      "text/plain": [
       "<Figure size 432x288 with 1 Axes>"
      ]
     },
     "metadata": {
      "needs_background": "light"
     },
     "output_type": "display_data"
    }
   ],
   "source": [
    "sns.distplot(data_set['Close'])"
   ]
  },
  {
   "cell_type": "markdown",
   "metadata": {},
   "source": [
    "From the above plot, it is evident that the mean closing price is between 500 and 600, then again a spike is evident at around 700 approximately. After conducting some research, it was noted that the previous stock prices had no impact on future stock prices. Meaning,the future stock price is independent of past values."
   ]
  },
  {
   "cell_type": "code",
   "execution_count": 6,
   "metadata": {},
   "outputs": [
    {
     "data": {
      "text/html": [
       "<div>\n",
       "<style scoped>\n",
       "    .dataframe tbody tr th:only-of-type {\n",
       "        vertical-align: middle;\n",
       "    }\n",
       "\n",
       "    .dataframe tbody tr th {\n",
       "        vertical-align: top;\n",
       "    }\n",
       "\n",
       "    .dataframe thead th {\n",
       "        text-align: right;\n",
       "    }\n",
       "</style>\n",
       "<table border=\"1\" class=\"dataframe\">\n",
       "  <thead>\n",
       "    <tr style=\"text-align: right;\">\n",
       "      <th></th>\n",
       "      <th>Open</th>\n",
       "      <th>High</th>\n",
       "      <th>Low</th>\n",
       "      <th>Close</th>\n",
       "    </tr>\n",
       "  </thead>\n",
       "  <tbody>\n",
       "    <tr>\n",
       "      <td>count</td>\n",
       "      <td>1258.000000</td>\n",
       "      <td>1258.000000</td>\n",
       "      <td>1258.000000</td>\n",
       "      <td>1258.000000</td>\n",
       "    </tr>\n",
       "    <tr>\n",
       "      <td>mean</td>\n",
       "      <td>533.709833</td>\n",
       "      <td>537.880223</td>\n",
       "      <td>529.007409</td>\n",
       "      <td>712.669666</td>\n",
       "    </tr>\n",
       "    <tr>\n",
       "      <td>std</td>\n",
       "      <td>151.904442</td>\n",
       "      <td>153.008811</td>\n",
       "      <td>150.552807</td>\n",
       "      <td>164.752591</td>\n",
       "    </tr>\n",
       "    <tr>\n",
       "      <td>min</td>\n",
       "      <td>279.120000</td>\n",
       "      <td>281.210000</td>\n",
       "      <td>277.220000</td>\n",
       "      <td>491.200000</td>\n",
       "    </tr>\n",
       "    <tr>\n",
       "      <td>25%</td>\n",
       "      <td>404.115000</td>\n",
       "      <td>406.765000</td>\n",
       "      <td>401.765000</td>\n",
       "      <td>576.740000</td>\n",
       "    </tr>\n",
       "    <tr>\n",
       "      <td>50%</td>\n",
       "      <td>537.470000</td>\n",
       "      <td>540.750000</td>\n",
       "      <td>532.990000</td>\n",
       "      <td>695.675000</td>\n",
       "    </tr>\n",
       "    <tr>\n",
       "      <td>75%</td>\n",
       "      <td>654.922500</td>\n",
       "      <td>662.587500</td>\n",
       "      <td>644.800000</td>\n",
       "      <td>782.105000</td>\n",
       "    </tr>\n",
       "    <tr>\n",
       "      <td>max</td>\n",
       "      <td>816.680000</td>\n",
       "      <td>816.680000</td>\n",
       "      <td>805.140000</td>\n",
       "      <td>1216.830000</td>\n",
       "    </tr>\n",
       "  </tbody>\n",
       "</table>\n",
       "</div>"
      ],
      "text/plain": [
       "              Open         High          Low        Close\n",
       "count  1258.000000  1258.000000  1258.000000  1258.000000\n",
       "mean    533.709833   537.880223   529.007409   712.669666\n",
       "std     151.904442   153.008811   150.552807   164.752591\n",
       "min     279.120000   281.210000   277.220000   491.200000\n",
       "25%     404.115000   406.765000   401.765000   576.740000\n",
       "50%     537.470000   540.750000   532.990000   695.675000\n",
       "75%     654.922500   662.587500   644.800000   782.105000\n",
       "max     816.680000   816.680000   805.140000  1216.830000"
      ]
     },
     "execution_count": 6,
     "metadata": {},
     "output_type": "execute_result"
    }
   ],
   "source": [
    "data_set.describe()"
   ]
  },
  {
   "cell_type": "markdown",
   "metadata": {},
   "source": [
    "The describe method, from Pandas, also gives similar results to the distribution of the close price.\n",
    "This was conducted to see some trends in the closing price."
   ]
  },
  {
   "cell_type": "code",
   "execution_count": 7,
   "metadata": {},
   "outputs": [
    {
     "name": "stderr",
     "output_type": "stream",
     "text": [
      "C:\\Users\\Siya\\Anaconda3\\lib\\site-packages\\pandas\\plotting\\_matplotlib\\converter.py:103: FutureWarning: Using an implicitly registered datetime converter for a matplotlib plotting method. The converter was registered by pandas on import. Future versions of pandas will require you to explicitly register matplotlib converters.\n",
      "\n",
      "To register the converters:\n",
      "\t>>> from pandas.plotting import register_matplotlib_converters\n",
      "\t>>> register_matplotlib_converters()\n",
      "  warnings.warn(msg, FutureWarning)\n",
      "No handles with labels found to put in legend.\n"
     ]
    },
    {
     "data": {
      "image/png": "[encoded data removed]",
      "text/plain": [
       "<Figure size 1440x720 with 1 Axes>"
      ]
     },
     "metadata": {
      "needs_background": "light"
     },
     "output_type": "display_data"
    }
   ],
   "source": [
    "# Create a line plot for the Close price as a function of time\n",
    "plt.figure(figsize=(20,10))\n",
    "plt.plot(data_set['Date'], data_set['Close'], color = 'blue')\n",
    "plt.title('Google CLosing Stock Price over 5 Years (2012-2016)')\n",
    "plt.xlabel('Date')\n",
    "plt.ylabel('Closing Price')\n",
    "plt.legend()\n",
    "plt.show()"
   ]
  },
  {
   "cell_type": "markdown",
   "metadata": {},
   "source": [
    "From the above plot, we see a general overview of the Closing Price over 5 Years. Some interesting observations are the spike that occured at the beginning of 2014, which caused the price to soar to a value of 1216 US dollars. Thereafter a massive dip occured. There was a general uptrend into 2015 until 2016, which consisted of minor down trends."
   ]
  },
  {
   "cell_type": "markdown",
   "metadata": {},
   "source": [
    "## Preprocess the data"
   ]
  },
  {
   "cell_type": "markdown",
   "metadata": {},
   "source": [
    "We will need to take Closing price column from the data frame and convert it into a 1-D array. Because our neural net, only takes arrays"
   ]
  },
  {
   "cell_type": "code",
   "execution_count": 8,
   "metadata": {},
   "outputs": [
    {
     "name": "stdout",
     "output_type": "stream",
     "text": [
      "[[663.59]\n",
      " [666.45]\n",
      " [657.21]\n",
      " ...\n",
      " [785.05]\n",
      " [782.79]\n",
      " [771.82]]\n"
     ]
    }
   ],
   "source": [
    "train_set = data_set.iloc[:, 4:5].values\n",
    "print(train_set)"
   ]
  },
  {
   "cell_type": "code",
   "execution_count": 9,
   "metadata": {},
   "outputs": [
    {
     "data": {
      "text/plain": [
       "(1258, 1)"
      ]
     },
     "execution_count": 9,
     "metadata": {},
     "output_type": "execute_result"
    }
   ],
   "source": [
    "train_set.shape"
   ]
  },
  {
   "cell_type": "markdown",
   "metadata": {},
   "source": [
    "We have what we want now, further preprocessing. We need to conduct Normalisation Feature Scaling (getting values between 0 and 1)."
   ]
  },
  {
   "cell_type": "code",
   "execution_count": 10,
   "metadata": {},
   "outputs": [
    {
     "data": {
      "text/plain": [
       "(1258, 1)"
      ]
     },
     "execution_count": 10,
     "metadata": {},
     "output_type": "execute_result"
    }
   ],
   "source": [
    "from sklearn.preprocessing import MinMaxScaler\n",
    "\n",
    "sc = MinMaxScaler(feature_range = (0,1))\n",
    "\n",
    "train_set_scaled = sc.fit_transform(train_set)\n",
    "train_set_scaled.shape"
   ]
  },
  {
   "cell_type": "markdown",
   "metadata": {},
   "source": [
    "We now need to put the data structure in to a form with 60 timesteps. Recall, we are working with an RNN(LSTM), which are used for Time Series problems. The 60 timesteps, the network has to remember, in oder to predict the following value at time = t+1.\n",
    "So the RNN will remember all the stock price values, from t = 0 until t = 60, in order to predict the t=61 value, and this will continue, until we parse through the whole training set. This is a very important step. So for our data, 60 timesteps = 3 months. So the RNN, will remember 3 months prior. This because, since a financial week has 5 working days, a month has 20 working days. The 60 timesteps, will be the memory of the neural net."
   ]
  },
  {
   "cell_type": "code",
   "execution_count": 11,
   "metadata": {},
   "outputs": [
    {
     "data": {
      "text/plain": [
       "(1138,)"
      ]
     },
     "execution_count": 11,
     "metadata": {},
     "output_type": "execute_result"
    }
   ],
   "source": [
    "# Initialise the input and the output\n",
    "\n",
    "X_train = [] # Input into the LSTM layer (60 previous stock prices)\n",
    "\n",
    "y_train = [] # The output, which will be the next stock price.\n",
    "\n",
    "\n",
    "for i in range(120, 1258): # i is the index of the stock price observation, we have 1257 observations.\n",
    "    X_train.append(train_set_scaled[i-120:i, 0]) # so the training set now will be a 2D matrix \n",
    "    y_train.append(train_set_scaled[i, 0])\n",
    "    \n",
    "X_train, y_train = np.array(X_train), np.array(y_train)\n",
    "X_train.shape\n",
    "y_train.shape"
   ]
  },
  {
   "cell_type": "code",
   "execution_count": 12,
   "metadata": {},
   "outputs": [
    {
     "name": "stdout",
     "output_type": "stream",
     "text": [
      "120\n",
      "1138\n"
     ]
    }
   ],
   "source": [
    "print(X_train.shape[1])\n",
    "print(X_train.shape[0])"
   ]
  },
  {
   "cell_type": "code",
   "execution_count": 13,
   "metadata": {},
   "outputs": [],
   "source": [
    "# We need to reshape X_train, into a Tensor (3D array)\n",
    "\n",
    "X_train = np.reshape(X_train, (X_train.shape[0], X_train.shape[1], 1))\n",
    "# X_train.shape[0] is the batch_size = 1198\n",
    "#X_train.shape[1] is the no of timesteps = 60\n",
    "#1 - the indicator we are using, which is the close price\n",
    "#The above, are the dimensions that go into an RNN, based on Keras documentation."
   ]
  },
  {
   "cell_type": "code",
   "execution_count": 14,
   "metadata": {},
   "outputs": [
    {
     "name": "stdout",
     "output_type": "stream",
     "text": [
      "(1138, 120, 1)\n"
     ]
    }
   ],
   "source": [
    "print(X_train.shape)"
   ]
  },
  {
   "cell_type": "markdown",
   "metadata": {},
   "source": [
    "Now our training set is ready, it is in the right format: 3D array. "
   ]
  },
  {
   "cell_type": "markdown",
   "metadata": {},
   "source": [
    "## Build the Recurrent Neural Network"
   ]
  },
  {
   "cell_type": "code",
   "execution_count": 15,
   "metadata": {},
   "outputs": [
    {
     "name": "stderr",
     "output_type": "stream",
     "text": [
      "Using TensorFlow backend.\n"
     ]
    }
   ],
   "source": [
    "# Import libraries\n",
    "from keras.models import Sequential # Our NN will be a sequence of layers\n",
    "from keras.layers import Dense # For our output layers\n",
    "from keras.layers import LSTM # For the stacked LSTM layer which our NN memory\n",
    "from keras.layers import Dropout # For regularization to avoid overfitting"
   ]
  },
  {
   "cell_type": "markdown",
   "metadata": {},
   "source": [
    "### Initialise The RNN"
   ]
  },
  {
   "cell_type": "code",
   "execution_count": 16,
   "metadata": {},
   "outputs": [],
   "source": [
    "regressor = Sequential()"
   ]
  },
  {
   "cell_type": "markdown",
   "metadata": {},
   "source": [
    "### First LSTM Layer"
   ]
  },
  {
   "cell_type": "code",
   "execution_count": 17,
   "metadata": {},
   "outputs": [
    {
     "name": "stdout",
     "output_type": "stream",
     "text": [
      "WARNING:tensorflow:From C:\\Users\\Siya\\Anaconda3\\lib\\site-packages\\tensorflow\\python\\ops\\resource_variable_ops.py:435: colocate_with (from tensorflow.python.framework.ops) is deprecated and will be removed in a future version.\n",
      "Instructions for updating:\n",
      "Colocations handled automatically by placer.\n"
     ]
    }
   ],
   "source": [
    "regressor.add(LSTM(units = 100, return_sequences = True, input_shape = (X_train.shape[1], 1)))\n",
    "regressor.add(Dropout(0.2)) # Prevent overfitting\n",
    "#X_train = 60 timesteps, 1 =close price\n",
    "# return_sequence is used for when we will another LSTM layer"
   ]
  },
  {
   "cell_type": "markdown",
   "metadata": {},
   "source": [
    "### Second LSTM Layer"
   ]
  },
  {
   "cell_type": "code",
   "execution_count": 18,
   "metadata": {},
   "outputs": [],
   "source": [
    "regressor.add(LSTM(units = 100, return_sequences = True))\n",
    "regressor.add(Dropout(0.2))"
   ]
  },
  {
   "cell_type": "markdown",
   "metadata": {},
   "source": [
    "### Third LSTM Layer"
   ]
  },
  {
   "cell_type": "code",
   "execution_count": 19,
   "metadata": {},
   "outputs": [],
   "source": [
    "regressor.add(LSTM(units = 100, return_sequences = True))\n",
    "regressor.add(Dropout(0.2))"
   ]
  },
  {
   "cell_type": "markdown",
   "metadata": {},
   "source": [
    "### Fourth LSTM Layer"
   ]
  },
  {
   "cell_type": "code",
   "execution_count": 20,
   "metadata": {},
   "outputs": [],
   "source": [
    "regressor.add(LSTM(units = 100))\n",
    "regressor.add(Dropout(0.2))\n",
    "# We wont need return_sequence this time because, this is our last LSTM layer."
   ]
  },
  {
   "cell_type": "markdown",
   "metadata": {},
   "source": [
    "### Output Layer"
   ]
  },
  {
   "cell_type": "code",
   "execution_count": 21,
   "metadata": {},
   "outputs": [],
   "source": [
    "regressor.add(Dense(units = 1))\n",
    "regressor.add(Dropout(0.2))"
   ]
  },
  {
   "cell_type": "markdown",
   "metadata": {},
   "source": [
    "### Compile the RNN"
   ]
  },
  {
   "cell_type": "code",
   "execution_count": 22,
   "metadata": {},
   "outputs": [],
   "source": [
    "regressor.compile(optimizer = 'adam', loss = 'mean_squared_error')"
   ]
  },
  {
   "cell_type": "markdown",
   "metadata": {},
   "source": [
    "### Fit the RNN to the training data"
   ]
  },
  {
   "cell_type": "code",
   "execution_count": 23,
   "metadata": {},
   "outputs": [
    {
     "name": "stdout",
     "output_type": "stream",
     "text": [
      "WARNING:tensorflow:From C:\\Users\\Siya\\Anaconda3\\lib\\site-packages\\tensorflow\\python\\ops\\math_ops.py:3066: to_int32 (from tensorflow.python.ops.math_ops) is deprecated and will be removed in a future version.\n",
      "Instructions for updating:\n",
      "Use tf.cast instead.\n",
      "Epoch 1/100\n",
      "1138/1138 [==============================] - 24s 21ms/step - loss: 0.0561\n",
      "Epoch 2/100\n",
      "1138/1138 [==============================] - 22s 20ms/step - loss: 0.0425\n",
      "Epoch 3/100\n",
      "1138/1138 [==============================] - 22s 20ms/step - loss: 0.0385\n",
      "Epoch 4/100\n",
      "1138/1138 [==============================] - 22s 19ms/step - loss: 0.0358\n",
      "Epoch 5/100\n",
      "1138/1138 [==============================] - 22s 20ms/step - loss: 0.0451\n",
      "Epoch 6/100\n",
      "1138/1138 [==============================] - 23s 20ms/step - loss: 0.0272\n",
      "Epoch 7/100\n",
      "1138/1138 [==============================] - 23s 20ms/step - loss: 0.0352\n",
      "Epoch 8/100\n",
      "1138/1138 [==============================] - 24s 21ms/step - loss: 0.0402\n",
      "Epoch 9/100\n",
      "1138/1138 [==============================] - 22s 20ms/step - loss: 0.0396\n",
      "Epoch 10/100\n",
      "1138/1138 [==============================] - 23s 21ms/step - loss: 0.0398\n",
      "Epoch 11/100\n",
      "1138/1138 [==============================] - 23s 20ms/step - loss: 0.0380\n",
      "Epoch 12/100\n",
      "1138/1138 [==============================] - 22s 20ms/step - loss: 0.0374\n",
      "Epoch 13/100\n",
      "1138/1138 [==============================] - 22s 20ms/step - loss: 0.0299\n",
      "Epoch 14/100\n",
      "1138/1138 [==============================] - 23s 20ms/step - loss: 0.0316\n",
      "Epoch 15/100\n",
      "1138/1138 [==============================] - 25s 22ms/step - loss: 0.0319\n",
      "Epoch 16/100\n",
      "1138/1138 [==============================] - 22s 19ms/step - loss: 0.0383\n",
      "Epoch 17/100\n",
      "1138/1138 [==============================] - 22s 19ms/step - loss: 0.0376\n",
      "Epoch 18/100\n",
      "1138/1138 [==============================] - 22s 20ms/step - loss: 0.0311\n",
      "Epoch 19/100\n",
      "1138/1138 [==============================] - 22s 20ms/step - loss: 0.0324\n",
      "Epoch 20/100\n",
      "1138/1138 [==============================] - 21s 19ms/step - loss: 0.0364\n",
      "Epoch 21/100\n",
      "1138/1138 [==============================] - 21s 19ms/step - loss: 0.0320\n",
      "Epoch 22/100\n",
      "1138/1138 [==============================] - 22s 19ms/step - loss: 0.0324\n",
      "Epoch 23/100\n",
      "1138/1138 [==============================] - 22s 19ms/step - loss: 0.0328\n",
      "Epoch 24/100\n",
      "1138/1138 [==============================] - 23s 20ms/step - loss: 0.0336\n",
      "Epoch 25/100\n",
      "1138/1138 [==============================] - 23s 20ms/step - loss: 0.0314\n",
      "Epoch 26/100\n",
      "1138/1138 [==============================] - 22s 19ms/step - loss: 0.0346\n",
      "Epoch 27/100\n",
      "1138/1138 [==============================] - 22s 19ms/step - loss: 0.0350\n",
      "Epoch 28/100\n",
      "1138/1138 [==============================] - 22s 19ms/step - loss: 0.0354\n",
      "Epoch 29/100\n",
      "1138/1138 [==============================] - 21s 18ms/step - loss: 0.0322\n",
      "Epoch 30/100\n",
      "1138/1138 [==============================] - 22s 19ms/step - loss: 0.0365\n",
      "Epoch 31/100\n",
      "1138/1138 [==============================] - 22s 19ms/step - loss: 0.0285\n",
      "Epoch 32/100\n",
      "1138/1138 [==============================] - 22s 20ms/step - loss: 0.0374\n",
      "Epoch 33/100\n",
      "1138/1138 [==============================] - 21s 18ms/step - loss: 0.0329\n",
      "Epoch 34/100\n",
      "1138/1138 [==============================] - 22s 19ms/step - loss: 0.0279\n",
      "Epoch 35/100\n",
      "1138/1138 [==============================] - 25s 22ms/step - loss: 0.0325\n",
      "Epoch 36/100\n",
      "1138/1138 [==============================] - 22s 19ms/step - loss: 0.0292\n",
      "Epoch 37/100\n",
      "1138/1138 [==============================] - 21s 18ms/step - loss: 0.0388\n",
      "Epoch 38/100\n",
      "1138/1138 [==============================] - 22s 20ms/step - loss: 0.0297\n",
      "Epoch 39/100\n",
      "1138/1138 [==============================] - 23s 20ms/step - loss: 0.0349\n",
      "Epoch 40/100\n",
      "1138/1138 [==============================] - 22s 19ms/step - loss: 0.0335\n",
      "Epoch 41/100\n",
      "1138/1138 [==============================] - 21s 18ms/step - loss: 0.0305\n",
      "Epoch 42/100\n",
      "1138/1138 [==============================] - 22s 19ms/step - loss: 0.0342\n",
      "Epoch 43/100\n",
      "1138/1138 [==============================] - 22s 19ms/step - loss: 0.0270\n",
      "Epoch 44/100\n",
      "1138/1138 [==============================] - 22s 19ms/step - loss: 0.0308\n",
      "Epoch 45/100\n",
      "1138/1138 [==============================] - 21s 18ms/step - loss: 0.0356\n",
      "Epoch 46/100\n",
      "1138/1138 [==============================] - 22s 19ms/step - loss: 0.0301\n",
      "Epoch 47/100\n",
      "1138/1138 [==============================] - 22s 20ms/step - loss: 0.0311\n",
      "Epoch 48/100\n",
      "1138/1138 [==============================] - 22s 19ms/step - loss: 0.0379\n",
      "Epoch 49/100\n",
      "1138/1138 [==============================] - 21s 18ms/step - loss: 0.0307\n",
      "Epoch 50/100\n",
      "1138/1138 [==============================] - 21s 19ms/step - loss: 0.0320\n",
      "Epoch 51/100\n",
      "1138/1138 [==============================] - 22s 19ms/step - loss: 0.0313\n",
      "Epoch 52/100\n",
      "1138/1138 [==============================] - 22s 19ms/step - loss: 0.0303\n",
      "Epoch 53/100\n",
      "1138/1138 [==============================] - 21s 19ms/step - loss: 0.0337\n",
      "Epoch 54/100\n",
      "1138/1138 [==============================] - 21s 19ms/step - loss: 0.0292\n",
      "Epoch 55/100\n",
      "1138/1138 [==============================] - 22s 19ms/step - loss: 0.0327\n",
      "Epoch 56/100\n",
      "1138/1138 [==============================] - 22s 19ms/step - loss: 0.0301\n",
      "Epoch 57/100\n",
      "1138/1138 [==============================] - 21s 19ms/step - loss: 0.0318\n",
      "Epoch 58/100\n",
      "1138/1138 [==============================] - 21s 18ms/step - loss: 0.0325\n",
      "Epoch 59/100\n",
      "1138/1138 [==============================] - 22s 19ms/step - loss: 0.0321\n",
      "Epoch 60/100\n",
      "1138/1138 [==============================] - 22s 19ms/step - loss: 0.0335\n",
      "Epoch 61/100\n",
      "1138/1138 [==============================] - 22s 19ms/step - loss: 0.0297\n",
      "Epoch 62/100\n",
      "1138/1138 [==============================] - 20s 18ms/step - loss: 0.0318\n",
      "Epoch 63/100\n",
      "1138/1138 [==============================] - 22s 19ms/step - loss: 0.0316\n",
      "Epoch 64/100\n",
      "1138/1138 [==============================] - 22s 19ms/step - loss: 0.0343\n",
      "Epoch 65/100\n",
      "1138/1138 [==============================] - 22s 19ms/step - loss: 0.0310\n",
      "Epoch 66/100\n",
      "1138/1138 [==============================] - 21s 18ms/step - loss: 0.0304\n",
      "Epoch 67/100\n",
      "1138/1138 [==============================] - 22s 19ms/step - loss: 0.0375\n",
      "Epoch 68/100\n",
      "1138/1138 [==============================] - 22s 19ms/step - loss: 0.0338\n",
      "Epoch 69/100\n",
      "1138/1138 [==============================] - 22s 19ms/step - loss: 0.0347\n",
      "Epoch 70/100\n",
      "1138/1138 [==============================] - 21s 18ms/step - loss: 0.0414\n",
      "Epoch 71/100\n",
      "1138/1138 [==============================] - 21s 19ms/step - loss: 0.0339\n",
      "Epoch 72/100\n",
      "1138/1138 [==============================] - 22s 19ms/step - loss: 0.0276\n",
      "Epoch 73/100\n",
      "1138/1138 [==============================] - 22s 19ms/step - loss: 0.0340\n",
      "Epoch 74/100\n",
      "1138/1138 [==============================] - 21s 18ms/step - loss: 0.0353\n",
      "Epoch 75/100\n",
      "1138/1138 [==============================] - 22s 19ms/step - loss: 0.0328\n",
      "Epoch 76/100\n",
      "1138/1138 [==============================] - 22s 19ms/step - loss: 0.0366\n",
      "Epoch 77/100\n",
      "1138/1138 [==============================] - 22s 19ms/step - loss: 0.0322\n",
      "Epoch 78/100\n",
      "1138/1138 [==============================] - 21s 19ms/step - loss: 0.0339\n",
      "Epoch 79/100\n",
      "1138/1138 [==============================] - 21s 18ms/step - loss: 0.0353\n",
      "Epoch 80/100\n",
      "1138/1138 [==============================] - 22s 19ms/step - loss: 0.0309\n",
      "Epoch 81/100\n",
      "1138/1138 [==============================] - 22s 19ms/step - loss: 0.0339\n",
      "Epoch 82/100\n",
      "1138/1138 [==============================] - 22s 19ms/step - loss: 0.0316\n",
      "Epoch 83/100\n",
      "1138/1138 [==============================] - 21s 18ms/step - loss: 0.0331\n",
      "Epoch 84/100\n",
      "1138/1138 [==============================] - 22s 20ms/step - loss: 0.0289\n",
      "Epoch 85/100\n",
      "1138/1138 [==============================] - 22s 19ms/step - loss: 0.0361\n",
      "Epoch 86/100\n",
      "1138/1138 [==============================] - 22s 19ms/step - loss: 0.0353\n",
      "Epoch 87/100\n",
      "1138/1138 [==============================] - 20s 18ms/step - loss: 0.0281\n",
      "Epoch 88/100\n",
      "1138/1138 [==============================] - 22s 19ms/step - loss: 0.0361\n",
      "Epoch 89/100\n",
      "1138/1138 [==============================] - 22s 19ms/step - loss: 0.0352\n",
      "Epoch 90/100\n",
      "1138/1138 [==============================] - 22s 19ms/step - loss: 0.0354\n",
      "Epoch 91/100\n",
      "1138/1138 [==============================] - 20s 18ms/step - loss: 0.0346\n",
      "Epoch 92/100\n"
     ]
    },
    {
     "name": "stdout",
     "output_type": "stream",
     "text": [
      "1138/1138 [==============================] - 24s 21ms/step - loss: 0.0278\n",
      "Epoch 93/100\n",
      "1138/1138 [==============================] - 22s 20ms/step - loss: 0.0297\n",
      "Epoch 94/100\n",
      "1138/1138 [==============================] - 21s 19ms/step - loss: 0.0314\n",
      "Epoch 95/100\n",
      "1138/1138 [==============================] - 22s 19ms/step - loss: 0.0348\n",
      "Epoch 96/100\n",
      "1138/1138 [==============================] - 22s 20ms/step - loss: 0.0293\n",
      "Epoch 97/100\n",
      "1138/1138 [==============================] - 22s 19ms/step - loss: 0.0334\n",
      "Epoch 98/100\n",
      "1138/1138 [==============================] - 22s 20ms/step - loss: 0.0296\n",
      "Epoch 99/100\n",
      "1138/1138 [==============================] - 21s 18ms/step - loss: 0.0311\n",
      "Epoch 100/100\n",
      "1138/1138 [==============================] - 22s 19ms/step - loss: 0.0299\n"
     ]
    },
    {
     "data": {
      "text/plain": [
       "<keras.callbacks.callbacks.History at 0x1c68a16a388>"
      ]
     },
     "execution_count": 23,
     "metadata": {},
     "output_type": "execute_result"
    }
   ],
   "source": [
    "regressor.fit(X_train, y_train, epochs = 100, batch_size = 32)"
   ]
  },
  {
   "cell_type": "markdown",
   "metadata": {},
   "source": [
    "## Test the RNN and Visualise the results"
   ]
  },
  {
   "cell_type": "markdown",
   "metadata": {},
   "source": [
    "We will test the model,on the test data, which consists of data entries from the January 2017. Which consists of 20 entries."
   ]
  },
  {
   "cell_type": "code",
   "execution_count": 24,
   "metadata": {},
   "outputs": [],
   "source": [
    "test_set = pd.read_csv('Google_Stock_Price_Test.csv')"
   ]
  },
  {
   "cell_type": "code",
   "execution_count": 25,
   "metadata": {},
   "outputs": [
    {
     "data": {
      "text/html": [
       "<div>\n",
       "<style scoped>\n",
       "    .dataframe tbody tr th:only-of-type {\n",
       "        vertical-align: middle;\n",
       "    }\n",
       "\n",
       "    .dataframe tbody tr th {\n",
       "        vertical-align: top;\n",
       "    }\n",
       "\n",
       "    .dataframe thead th {\n",
       "        text-align: right;\n",
       "    }\n",
       "</style>\n",
       "<table border=\"1\" class=\"dataframe\">\n",
       "  <thead>\n",
       "    <tr style=\"text-align: right;\">\n",
       "      <th></th>\n",
       "      <th>Date</th>\n",
       "      <th>Open</th>\n",
       "      <th>High</th>\n",
       "      <th>Low</th>\n",
       "      <th>Close</th>\n",
       "      <th>Volume</th>\n",
       "    </tr>\n",
       "  </thead>\n",
       "  <tbody>\n",
       "    <tr>\n",
       "      <td>0</td>\n",
       "      <td>1/3/2017</td>\n",
       "      <td>778.81</td>\n",
       "      <td>789.63</td>\n",
       "      <td>775.80</td>\n",
       "      <td>786.14</td>\n",
       "      <td>1,657,300</td>\n",
       "    </tr>\n",
       "    <tr>\n",
       "      <td>1</td>\n",
       "      <td>1/4/2017</td>\n",
       "      <td>788.36</td>\n",
       "      <td>791.34</td>\n",
       "      <td>783.16</td>\n",
       "      <td>786.90</td>\n",
       "      <td>1,073,000</td>\n",
       "    </tr>\n",
       "    <tr>\n",
       "      <td>2</td>\n",
       "      <td>1/5/2017</td>\n",
       "      <td>786.08</td>\n",
       "      <td>794.48</td>\n",
       "      <td>785.02</td>\n",
       "      <td>794.02</td>\n",
       "      <td>1,335,200</td>\n",
       "    </tr>\n",
       "    <tr>\n",
       "      <td>3</td>\n",
       "      <td>1/6/2017</td>\n",
       "      <td>795.26</td>\n",
       "      <td>807.90</td>\n",
       "      <td>792.20</td>\n",
       "      <td>806.15</td>\n",
       "      <td>1,640,200</td>\n",
       "    </tr>\n",
       "    <tr>\n",
       "      <td>4</td>\n",
       "      <td>1/9/2017</td>\n",
       "      <td>806.40</td>\n",
       "      <td>809.97</td>\n",
       "      <td>802.83</td>\n",
       "      <td>806.65</td>\n",
       "      <td>1,272,400</td>\n",
       "    </tr>\n",
       "  </tbody>\n",
       "</table>\n",
       "</div>"
      ],
      "text/plain": [
       "       Date    Open    High     Low   Close     Volume\n",
       "0  1/3/2017  778.81  789.63  775.80  786.14  1,657,300\n",
       "1  1/4/2017  788.36  791.34  783.16  786.90  1,073,000\n",
       "2  1/5/2017  786.08  794.48  785.02  794.02  1,335,200\n",
       "3  1/6/2017  795.26  807.90  792.20  806.15  1,640,200\n",
       "4  1/9/2017  806.40  809.97  802.83  806.65  1,272,400"
      ]
     },
     "execution_count": 25,
     "metadata": {},
     "output_type": "execute_result"
    }
   ],
   "source": [
    "test_set.head()"
   ]
  },
  {
   "cell_type": "code",
   "execution_count": 26,
   "metadata": {},
   "outputs": [
    {
     "name": "stdout",
     "output_type": "stream",
     "text": [
      "<class 'pandas.core.frame.DataFrame'>\n",
      "RangeIndex: 20 entries, 0 to 19\n",
      "Data columns (total 6 columns):\n",
      "Date      20 non-null object\n",
      "Open      20 non-null float64\n",
      "High      20 non-null float64\n",
      "Low       20 non-null float64\n",
      "Close     20 non-null float64\n",
      "Volume    20 non-null object\n",
      "dtypes: float64(4), object(2)\n",
      "memory usage: 1.1+ KB\n"
     ]
    }
   ],
   "source": [
    "test_set.info()"
   ]
  },
  {
   "cell_type": "code",
   "execution_count": 27,
   "metadata": {},
   "outputs": [],
   "source": [
    "real_stock_price = test_set.iloc[:, 4:5].values # The closing price of January 2017"
   ]
  },
  {
   "cell_type": "markdown",
   "metadata": {},
   "source": [
    "The model is an RNN, so therefore, it needs memory, in order to properly predict the stock price. Therefore, we wil have to join the test and training sets and make sure, that the training set will serve as the memory of the LSTM network. The RNN will still recall 60 timesteps prior to the current prediction."
   ]
  },
  {
   "cell_type": "code",
   "execution_count": 28,
   "metadata": {},
   "outputs": [
    {
     "name": "stdout",
     "output_type": "stream",
     "text": [
      "1278\n",
      "20\n"
     ]
    }
   ],
   "source": [
    "#Concatinate the training and test Closing columns vertically.\n",
    "#The test set CLosing price values will be added underneath the training values.\n",
    "data = pd.concat((data_set['Close'], test_set['Close']), axis = 0)\n",
    "print(len(data))\n",
    "print(len(test_set))"
   ]
  },
  {
   "cell_type": "code",
   "execution_count": 34,
   "metadata": {},
   "outputs": [],
   "source": [
    "# Get the inputs\n",
    "inputs = data[len(data) - len(test_set) - 120:].values # We want to take the memory (60 timesteps) and test set as inputs to the RNN\n",
    "inputs = inputs.reshape(-1,1) # Re shape to an array\n",
    "inputs = sc.transform(inputs) # Transform the inputs to be within (0, 1)"
   ]
  },
  {
   "cell_type": "code",
   "execution_count": 35,
   "metadata": {},
   "outputs": [
    {
     "data": {
      "text/plain": [
       "(20, 120)"
      ]
     },
     "execution_count": 35,
     "metadata": {},
     "output_type": "execute_result"
    }
   ],
   "source": [
    "# Get the test set in a structure with 60 timesteps \n",
    "X_test = []\n",
    "\n",
    "for i in range(120, 140): # Recall we want 60 timesteps and we only have 20 entries for the test set\n",
    "    X_test.append(inputs[i-120:i, 0])\n",
    "    \n",
    "X_test = np.array(X_test)\n",
    "X_test.shape"
   ]
  },
  {
   "cell_type": "code",
   "execution_count": 36,
   "metadata": {},
   "outputs": [
    {
     "data": {
      "text/plain": [
       "(20, 120, 1)"
      ]
     },
     "execution_count": 36,
     "metadata": {},
     "output_type": "execute_result"
    }
   ],
   "source": [
    "# We now have to give the test set 3 dimensions (Tensor Form)\n",
    "X_test = np.reshape(X_test, (X_test.shape[0], X_test.shape[1], 1))\n",
    "X_test.shape"
   ]
  },
  {
   "cell_type": "code",
   "execution_count": 37,
   "metadata": {},
   "outputs": [],
   "source": [
    "# Now we can test the model\n",
    "prediction = regressor.predict(X_test)\n",
    "prediction = sc.inverse_transform(prediction)"
   ]
  },
  {
   "cell_type": "code",
   "execution_count": 38,
   "metadata": {},
   "outputs": [
    {
     "data": {
      "image/png": "[encoded data removed]",
      "text/plain": [
       "<Figure size 1440x720 with 1 Axes>"
      ]
     },
     "metadata": {
      "needs_background": "light"
     },
     "output_type": "display_data"
    }
   ],
   "source": [
    "### Visulaise the Results\n",
    "plt.figure(figsize=(20,10))\n",
    "plt.plot(real_stock_price, color = 'red', label = 'Real Stock Price 2017')\n",
    "plt.plot(prediction, color = 'blue', label = 'Predicted Stock Price 2017')\n",
    "plt.xlabel('Time')\n",
    "plt.ylabel('Closing Stock Price')\n",
    "plt.legend()\n",
    "plt.title('Google Stock Closing Stock Price Prediction')\n",
    "plt.show()"
   ]
  },
  {
   "cell_type": "code",
   "execution_count": null,
   "metadata": {},
   "outputs": [],
   "source": []
  }
 ],
 "metadata": {
  "kernelspec": {
   "display_name": "Python 3",
   "language": "python",
   "name": "python3"
  },
  "language_info": {
   "codemirror_mode": {
    "name": "ipython",
    "version": 3
   },
   "file_extension": ".py",
   "mimetype": "text/x-python",
   "name": "python",
   "nbconvert_exporter": "python",
   "pygments_lexer": "ipython3",
   "version": "3.7.4"
  }
 },
 "nbformat": 4,
 "nbformat_minor": 2
}
